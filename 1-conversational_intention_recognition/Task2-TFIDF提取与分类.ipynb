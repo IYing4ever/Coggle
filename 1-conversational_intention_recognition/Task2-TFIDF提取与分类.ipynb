{
 "cells": [
  {
   "attachments": {},
   "cell_type": "markdown",
   "metadata": {},
   "source": [
    "# task2 TFIDF提取与分类"
   ]
  },
  {
   "attachments": {},
   "cell_type": "markdown",
   "metadata": {},
   "source": [
    "## 读取数据"
   ]
  },
  {
   "cell_type": "code",
   "execution_count": 1,
   "metadata": {},
   "outputs": [],
   "source": [
    "import pandas as pd"
   ]
  },
  {
   "cell_type": "code",
   "execution_count": 3,
   "metadata": {},
   "outputs": [],
   "source": [
    "data_dir = './data/'\n",
    "train_data = pd.read_csv(data_dir + 'intent-recognition-train.csv', sep='\\t', header=None)\n",
    "test_data = pd.read_csv(data_dir + 'intent-recognition-test.csv', sep='\\t', header=None)\n"
   ]
  },
  {
   "attachments": {},
   "cell_type": "markdown",
   "metadata": {},
   "source": [
    "## 提取特征  \n",
    "使用sklearn中的TfidfVectorizer类提取训练集和测试集的特征"
   ]
  },
  {
   "cell_type": "code",
   "execution_count": 4,
   "metadata": {},
   "outputs": [],
   "source": [
    "import sklearn\n",
    "from sklearn.feature_extraction.text import TfidfVectorizer"
   ]
  },
  {
   "cell_type": "code",
   "execution_count": 12,
   "metadata": {},
   "outputs": [
    {
     "name": "stdout",
     "output_type": "stream",
     "text": [
      "(12100, 13085)\n"
     ]
    }
   ],
   "source": [
    "train_corpus = train_data[0]\n",
    "\n",
    "vectorizer = TfidfVectorizer()\n",
    "train_vec = vectorizer.fit_transform(train_corpus)\n",
    "vectorizer.get_feature_names_out()\n",
    "\n",
    "print(train_vec.shape)"
   ]
  },
  {
   "cell_type": "code",
   "execution_count": 13,
   "metadata": {},
   "outputs": [
    {
     "name": "stdout",
     "output_type": "stream",
     "text": [
      "(3000, 13085)\n"
     ]
    }
   ],
   "source": [
    "test_cropus = test_data[0]\n",
    "\n",
    "# 使用相同的向量化器对象将测试集转换为TF-IDF特征向量\n",
    "\n",
    "test_vec = vectorizer.transform(test_cropus)\n",
    "vectorizer.get_feature_names_out()\n",
    "\n",
    "print(test_vec.shape)"
   ]
  },
  {
   "attachments": {},
   "cell_type": "markdown",
   "metadata": {},
   "source": [
    "TfidfVectorizer类中可以设置以下参数：  \n",
    "- max_df: 用于过滤掉高频词项，在[0.0, 1.0]之间表示比例；  \n",
    "- min_df: 用于过滤掉低频词项，在[0.0, 1.0]之间表示比例；  \n",
    "- max_features: 用于限制提取特征的数量，默认为None。  \n",
    "- ngram_range: 用于指定提取n元语法特征时n值范围，默认为(1, 1)，即只提取单个词项。  \n",
    "- stop_words: 用于指定停用词列表，默认为None。  \n",
    "- norm: 用于指定归一化方法，默认为’l2’范数。  \n",
    "- use_idf: 是否使用逆文档频率计算权重，默认为True。  \n",
    "- smooth_idf: 是否平滑逆文档频率计算，默认为True  "
   ]
  },
  {
   "cell_type": "code",
   "execution_count": null,
   "metadata": {},
   "outputs": [],
   "source": []
  },
  {
   "attachments": {},
   "cell_type": "markdown",
   "metadata": {},
   "source": [
    "## 训练&预测  \n",
    "使用KNN/LR/SVM等分类器对训练集进行训练，并对验证集和测试集进行预测，评估模型的性能。"
   ]
  },
  {
   "cell_type": "code",
   "execution_count": 14,
   "metadata": {},
   "outputs": [],
   "source": [
    "from sklearn.linear_model import LogisticRegression\n",
    "from sklearn.svm import SVC\n",
    "from sklearn.ensemble import RandomForestClassifier\n",
    "from sklearn.neighbors import KNeighborsClassifier\n",
    "from sklearn.ensemble import VotingClassifier\n",
    "\n"
   ]
  },
  {
   "cell_type": "code",
   "execution_count": 15,
   "metadata": {},
   "outputs": [],
   "source": [
    "X_train = train_vec\n",
    "y_train = train_data[1]\n",
    "X_test = test_vec"
   ]
  },
  {
   "cell_type": "code",
   "execution_count": 19,
   "metadata": {},
   "outputs": [
    {
     "name": "stdout",
     "output_type": "stream",
     "text": [
      "logistic regression classifier score: 0.946198347107438\n",
      "predict score: ['FilmTele-Play' 'FilmTele-Play' 'FilmTele-Play' ... 'FilmTele-Play'\n",
      " 'FilmTele-Play' 'FilmTele-Play']\n"
     ]
    }
   ],
   "source": [
    "lr = LogisticRegression()\n",
    "lr.fit(X_train, y_train)\n",
    "score_lr = lr.score(X_train, y_train)\n",
    "out_lr = lr.predict(X_test)\n",
    "print('classifier score: {}'.format(score_lr))\n",
    "print('predict score: {}'.format(out_lr))\n",
    "# 0.17\n"
   ]
  },
  {
   "cell_type": "code",
   "execution_count": 21,
   "metadata": {},
   "outputs": [
    {
     "name": "stdout",
     "output_type": "stream",
     "text": [
      "logistic regression classifier score: 1.0\n",
      "predict score: ['FilmTele-Play' 'FilmTele-Play' 'FilmTele-Play' ... 'FilmTele-Play'\n",
      " 'FilmTele-Play' 'FilmTele-Play']\n"
     ]
    }
   ],
   "source": [
    "svc = SVC()\n",
    "svc.fit(X_train, y_train)\n",
    "score_svc = svc.score(X_train, y_train)\n",
    "out_svc = svc.predict(X_test)\n",
    "print('classifier score: {}'.format(score_svc))\n",
    "print('predict score: {}'.format(out_svc))\n",
    "# 0.218\n"
   ]
  },
  {
   "cell_type": "code",
   "execution_count": 44,
   "metadata": {},
   "outputs": [
    {
     "name": "stdout",
     "output_type": "stream",
     "text": [
      "logistic regression classifier score: 1.0\n",
      "predict score: ['Video-Play' 'Video-Play' 'Video-Play' ... 'Video-Play' 'Video-Play'\n",
      " 'Video-Play']\n"
     ]
    }
   ],
   "source": [
    "knn = KNeighborsClassifier(n_neighbors=1)\n",
    "knn.fit(X_train, y_train)\n",
    "score_knn = knn.score(X_train, y_train)\n",
    "out_knn = knn.predict(X_test)\n",
    "print('classifier score: {}'.format(score_knn))\n",
    "print('predict score: {}'.format(out_knn))\n",
    "# 0.090  5\n",
    "# 0.075  12\n",
    "# 0.168  3\n",
    "# 0.185  2\n",
    "# 0.186  1"
   ]
  },
  {
   "cell_type": "code",
   "execution_count": 17,
   "metadata": {},
   "outputs": [
    {
     "name": "stdout",
     "output_type": "stream",
     "text": [
      "random forest classifier score: 1.0\n",
      "predict score: ['FilmTele-Play' 'FilmTele-Play' 'FilmTele-Play' ... 'FilmTele-Play'\n",
      " 'FilmTele-Play' 'FilmTele-Play']\n"
     ]
    }
   ],
   "source": [
    "rfc = RandomForestClassifier()  \n",
    "rfc.fit(X_train, y_train)\n",
    "score_rfc = rfc.score(X_train, y_train)\n",
    "out_rfc = rfc.predict(X_test)\n",
    "print('classifier score: {}'.format(score_rfc))\n",
    "print('predict score: {}'.format(out_rfc))\n",
    "# 0.213"
   ]
  },
  {
   "cell_type": "code",
   "execution_count": 49,
   "metadata": {},
   "outputs": [
    {
     "name": "stdout",
     "output_type": "stream",
     "text": [
      "classifier score: 1.0\n",
      "predict score: ['FilmTele-Play' 'FilmTele-Play' 'FilmTele-Play' ... 'FilmTele-Play'\n",
      " 'FilmTele-Play' 'FilmTele-Play']\n"
     ]
    }
   ],
   "source": [
    "voting = VotingClassifier(estimators=[('lr', lr), ('svc', svc), ('rfc', rfc)])  # ('knn', knn)\n",
    "voting.fit(X_train, y_train)\n",
    "score_voting = rfc.score(X_train, y_train)\n",
    "out_voting = rfc.predict(X_test)\n",
    "print('classifier score: {}'.format(score_voting))\n",
    "print('predict score: {}'.format(out_voting))\n",
    "# 0.213"
   ]
  },
  {
   "cell_type": "code",
   "execution_count": 50,
   "metadata": {},
   "outputs": [],
   "source": [
    "out = list(out_knn)\n",
    "data = [[i, out[i]] for i in range(len(out))]\n",
    "# 将列表数据转换为DataFrame对象\n",
    "df = pd.DataFrame(data, columns=['ID', 'Target'])\n",
    "\n",
    "# 保存DataFrame对象到文件中\n",
    "df.to_csv('./data/save.csv', index=False)"
   ]
  },
  {
   "cell_type": "code",
   "execution_count": null,
   "metadata": {},
   "outputs": [],
   "source": []
  }
 ],
 "metadata": {
  "kernelspec": {
   "display_name": "base",
   "language": "python",
   "name": "python3"
  },
  "language_info": {
   "codemirror_mode": {
    "name": "ipython",
    "version": 3
   },
   "file_extension": ".py",
   "mimetype": "text/x-python",
   "name": "python",
   "nbconvert_exporter": "python",
   "pygments_lexer": "ipython3",
   "version": "3.9.16"
  },
  "orig_nbformat": 4
 },
 "nbformat": 4,
 "nbformat_minor": 2
}
